{
 "cells": [
  {
   "cell_type": "code",
   "execution_count": 1,
   "metadata": {},
   "outputs": [],
   "source": [
    "import pandas as pd\n",
    "import numpy as np\n",
    "from datetime import date\n",
    "import time"
   ]
  },
  {
   "cell_type": "code",
   "execution_count": 2,
   "metadata": {},
   "outputs": [],
   "source": [
    "from bs4 import BeautifulSoup"
   ]
  },
  {
   "cell_type": "code",
   "execution_count": 3,
   "metadata": {},
   "outputs": [],
   "source": [
    "from urllib.request import urlopen,Request"
   ]
  },
  {
   "cell_type": "code",
   "execution_count": 4,
   "metadata": {},
   "outputs": [],
   "source": [
    "finviz_url = 'https://finviz.com/news.ashx'"
   ]
  },
  {
   "cell_type": "code",
   "execution_count": 5,
   "metadata": {},
   "outputs": [],
   "source": [
    "req = Request(url=finviz_url , headers = {'user-agent':'my-app'})\n",
    "response = urlopen(req)"
   ]
  },
  {
   "cell_type": "code",
   "execution_count": 6,
   "metadata": {},
   "outputs": [],
   "source": [
    "html = BeautifulSoup(response,'html')\n",
    "latest_news = html.find(id='news')"
   ]
  },
  {
   "cell_type": "code",
   "execution_count": 7,
   "metadata": {},
   "outputs": [],
   "source": [
    "content = latest_news.find('table').findAll('table')[2]"
   ]
  },
  {
   "cell_type": "code",
   "execution_count": 8,
   "metadata": {
    "scrolled": false
   },
   "outputs": [],
   "source": [
    "data = []\n",
    "today = date.today()\n",
    "date = today.strftime('%m-%d-%Y')\n",
    "\n",
    "for i in range(1,len(content)):\n",
    "    if i%2==1:\n",
    "        time = content.contents[i].text[2:9]\n",
    "        title = content.contents[i].text[10:-1]\n",
    "        data.append([date,time,title])\n",
    "    else:\n",
    "        'no'"
   ]
  },
  {
   "cell_type": "code",
   "execution_count": 9,
   "metadata": {},
   "outputs": [],
   "source": [
    "news1 = pd.DataFrame(data,columns=['date','time','title'])"
   ]
  },
  {
   "cell_type": "code",
   "execution_count": 10,
   "metadata": {},
   "outputs": [],
   "source": [
    "news = pd.read_csv('news.csv')"
   ]
  },
  {
   "cell_type": "code",
   "execution_count": 11,
   "metadata": {},
   "outputs": [],
   "source": [
    "news = news.append(news1)[['date','time','title']]"
   ]
  },
  {
   "cell_type": "code",
   "execution_count": 12,
   "metadata": {},
   "outputs": [],
   "source": [
    "news.to_csv('news.csv')"
   ]
  },
  {
   "cell_type": "code",
   "execution_count": 13,
   "metadata": {},
   "outputs": [],
   "source": [
    "#To generate positive and negative reviews from news\n",
    "\n",
    "from nltk.sentiment.vader import SentimentIntensityAnalyzer"
   ]
  },
  {
   "cell_type": "code",
   "execution_count": 14,
   "metadata": {},
   "outputs": [],
   "source": [
    "vader = SentimentIntensityAnalyzer()"
   ]
  },
  {
   "cell_type": "code",
   "execution_count": 15,
   "metadata": {},
   "outputs": [],
   "source": [
    "news['compound']=news['title'].apply(lambda x: vader.polarity_scores(x)['compound'])"
   ]
  },
  {
   "cell_type": "code",
   "execution_count": 16,
   "metadata": {},
   "outputs": [],
   "source": [
    "review = []\n",
    "\n",
    "for row in news['compound']: \n",
    "    if row<0:\n",
    "        review.append('negative')\n",
    "    elif row==0:\n",
    "        review.append('neutral')\n",
    "    else:  \n",
    "        review.append('positive')"
   ]
  },
  {
   "cell_type": "code",
   "execution_count": 17,
   "metadata": {},
   "outputs": [],
   "source": [
    "news['review']=review"
   ]
  },
  {
   "cell_type": "code",
   "execution_count": 18,
   "metadata": {},
   "outputs": [],
   "source": [
    "#To extract organization name from news headlines\n",
    "\n",
    "import spacy\n",
    "from spacy import displacy\n",
    "from collections import Counter\n",
    "import en_core_web_sm\n",
    "nlp = en_core_web_sm.load()"
   ]
  },
  {
   "cell_type": "code",
   "execution_count": 19,
   "metadata": {},
   "outputs": [],
   "source": [
    "news['modified_title']=news['title'].apply(lambda x:x.replace('-','- '))"
   ]
  },
  {
   "cell_type": "code",
   "execution_count": 20,
   "metadata": {},
   "outputs": [],
   "source": [
    "def org(x):\n",
    "    doc = nlp(x)\n",
    "    return [X.text for X in doc.ents if X.label_ == 'ORG']"
   ]
  },
  {
   "cell_type": "code",
   "execution_count": 21,
   "metadata": {},
   "outputs": [],
   "source": [
    "news['organization']=news['modified_title'].apply(lambda x : org(x))"
   ]
  },
  {
   "cell_type": "code",
   "execution_count": 22,
   "metadata": {},
   "outputs": [],
   "source": [
    "news.reset_index(inplace=True)"
   ]
  },
  {
   "cell_type": "code",
   "execution_count": 23,
   "metadata": {},
   "outputs": [],
   "source": [
    "news=news.drop(columns='index',axis=1)"
   ]
  },
  {
   "cell_type": "code",
   "execution_count": 24,
   "metadata": {},
   "outputs": [],
   "source": [
    "companies_list = pd.read_csv('companies_list.csv')"
   ]
  },
  {
   "cell_type": "code",
   "execution_count": 25,
   "metadata": {},
   "outputs": [],
   "source": [
    "title=[]\n",
    "search=[]\n",
    "sector=[]\n",
    "for j in range(0,len(news)):\n",
    "    for i in range(0,len(companies_list)):\n",
    "        if news['title'][j].lower().find(companies_list['Name'][i].lower())>=0:\n",
    "            search1=companies_list['Name'][i]\n",
    "            search.append(search1)\n",
    "            title1=news['title'][j]\n",
    "            title.append(title1)\n",
    "            sector1=companies_list['Sector'][i]\n",
    "            sector.append(sector1)\n",
    "        else:\n",
    "            search1='not found'"
   ]
  },
  {
   "cell_type": "code",
   "execution_count": 26,
   "metadata": {},
   "outputs": [],
   "source": [
    "company_name_dataframe=pd.DataFrame({'title':title,'company_name':search,'sector':sector})"
   ]
  },
  {
   "cell_type": "code",
   "execution_count": 27,
   "metadata": {},
   "outputs": [],
   "source": [
    "news_table=pd.merge(news,company_name_dataframe,how='inner')"
   ]
  },
  {
   "cell_type": "code",
   "execution_count": 28,
   "metadata": {},
   "outputs": [],
   "source": [
    "news_table=news_table.drop(columns=['modified_title','organization'],axis=1)"
   ]
  },
  {
   "cell_type": "code",
   "execution_count": 29,
   "metadata": {},
   "outputs": [],
   "source": [
    "import datetime\n",
    "\n",
    "today = datetime.date.today()\n",
    "last_monday = today - datetime.timedelta(days=today.weekday())-datetime.timedelta(days=7)\n",
    "last_friday = today - datetime.timedelta(days=today.weekday())-datetime.timedelta(days=3)"
   ]
  },
  {
   "cell_type": "code",
   "execution_count": 30,
   "metadata": {},
   "outputs": [],
   "source": [
    "table=news_table[(news_table['date']>=last_monday.strftime('%m/%d/%Y')) & (news_table['date']<=last_friday.strftime('%m/%d/%Y'))]"
   ]
  },
  {
   "cell_type": "code",
   "execution_count": 31,
   "metadata": {},
   "outputs": [],
   "source": [
    "modified_news=table.groupby(['company_name','sector']).mean('compound')"
   ]
  },
  {
   "cell_type": "code",
   "execution_count": 32,
   "metadata": {},
   "outputs": [],
   "source": [
    "review = []\n",
    "\n",
    "for row in modified_news['compound']: \n",
    "    if row<0:\n",
    "        review.append('negative')\n",
    "    elif row==0:\n",
    "        review.append('neutral')\n",
    "    else:  \n",
    "        review.append('positive')"
   ]
  },
  {
   "cell_type": "code",
   "execution_count": 33,
   "metadata": {},
   "outputs": [],
   "source": [
    "modified_news['review']=review"
   ]
  },
  {
   "cell_type": "code",
   "execution_count": 34,
   "metadata": {},
   "outputs": [],
   "source": [
    "positive=modified_news[modified_news['review']=='positive'].sort_values('compound',ascending=False).head(10)"
   ]
  },
  {
   "cell_type": "code",
   "execution_count": 35,
   "metadata": {},
   "outputs": [],
   "source": [
    "negative=modified_news[modified_news['review']=='negative'].sort_values('compound').head(10)"
   ]
  },
  {
   "cell_type": "code",
   "execution_count": 36,
   "metadata": {},
   "outputs": [
    {
     "data": {
      "text/plain": [
       "datetime.date(2021, 6, 18)"
      ]
     },
     "execution_count": 36,
     "metadata": {},
     "output_type": "execute_result"
    }
   ],
   "source": [
    "last_friday"
   ]
  },
  {
   "cell_type": "code",
   "execution_count": 43,
   "metadata": {},
   "outputs": [],
   "source": [
    "from email.mime.text import MIMEText\n",
    "from email.mime.application import MIMEApplication\n",
    "from email.mime.multipart import MIMEMultipart\n",
    "from smtplib import SMTP\n",
    "import smtplib\n",
    "import sys\n",
    "\n",
    "\n",
    "recipients = ['hanisha.namburi@gmail.com'] \n",
    "emaillist = [elem.strip().split(',') for elem in recipients]\n",
    "msg = MIMEMultipart()\n",
    "msg['Subject'] = \"companies having positive news\"\n",
    "msg['From'] = 'hanisha.namburi@gmail.com'\n",
    "\n",
    "\n",
    "html = \"\"\"\\\n",
    "<html>\n",
    "  <head></head>\n",
    "  <body>\n",
    "    {0}\n",
    "  </body>\n",
    "</html>\n",
    "\"\"\".format(positive.to_html())\n",
    "\n",
    "part1 = MIMEText(html, 'html')\n",
    "msg.attach(part1)\n",
    "\n",
    "try:\n",
    "    \"\"\"Checking for connection errors\"\"\"\n",
    "\n",
    "    server = smtplib.SMTP('smtp.gmail.com', 587)\n",
    "    #server.ehlo()#NOT NECESSARY\n",
    "    server.starttls()\n",
    "    #server.ehlo()#NOT NECESSARY\n",
    "    server.login('hanisha.namburi@gmail.com','Hani@1995')\n",
    "    server.sendmail(msg['From'], emaillist , msg.as_string())\n",
    "    server.close()\n",
    "\n",
    "except Exception as e:\n",
    "    print(\"Error for connection: {}\".format(e))\n"
   ]
  },
  {
   "cell_type": "code",
   "execution_count": 44,
   "metadata": {},
   "outputs": [],
   "source": [
    "from email.mime.text import MIMEText\n",
    "from email.mime.application import MIMEApplication\n",
    "from email.mime.multipart import MIMEMultipart\n",
    "from smtplib import SMTP\n",
    "import smtplib\n",
    "import sys\n",
    "\n",
    "\n",
    "recipients = ['hanisha.namburi@gmail.com'] \n",
    "emaillist = [elem.strip().split(',') for elem in recipients]\n",
    "msg = MIMEMultipart()\n",
    "msg['Subject'] = \"companies having negative news\"\n",
    "msg['From'] = 'hanisha.namburi@gmail.com'\n",
    "\n",
    "\n",
    "html = \"\"\"\\\n",
    "<html>\n",
    "  <head></head>\n",
    "  <body>\n",
    "    {0}\n",
    "  </body>\n",
    "</html>\n",
    "\"\"\".format(negative.to_html())\n",
    "\n",
    "part1 = MIMEText(html, 'html')\n",
    "msg.attach(part1)\n",
    "\n",
    "try:\n",
    "    \"\"\"Checking for connection errors\"\"\"\n",
    "\n",
    "    server = smtplib.SMTP('smtp.gmail.com', 587)\n",
    "    #server.ehlo()#NOT NECESSARY\n",
    "    server.starttls()\n",
    "    #server.ehlo()#NOT NECESSARY\n",
    "    server.login('hanisha.namburi@gmail.com','Hani@1995')\n",
    "    server.sendmail(msg['From'], emaillist , msg.as_string())\n",
    "    server.close()\n",
    "\n",
    "except Exception as e:\n",
    "    print(\"Error for connection: {}\".format(e))"
   ]
  },
  {
   "cell_type": "code",
   "execution_count": null,
   "metadata": {},
   "outputs": [],
   "source": []
  }
 ],
 "metadata": {
  "kernelspec": {
   "display_name": "Python 3",
   "language": "python",
   "name": "python3"
  },
  "language_info": {
   "codemirror_mode": {
    "name": "ipython",
    "version": 3
   },
   "file_extension": ".py",
   "mimetype": "text/x-python",
   "name": "python",
   "nbconvert_exporter": "python",
   "pygments_lexer": "ipython3",
   "version": "3.8.5"
  }
 },
 "nbformat": 4,
 "nbformat_minor": 4
}
