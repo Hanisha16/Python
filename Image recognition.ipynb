{
 "cells": [
  {
   "cell_type": "code",
   "execution_count": 3,
   "metadata": {},
   "outputs": [],
   "source": [
    "import keras\n",
    "from keras.datasets import cifar10\n",
    "from keras.models import Sequential\n",
    "from keras.layers import Dense, Dropout, Flatten, Conv2D, MaxPooling2D\n",
    "from pathlib import Path"
   ]
  },
  {
   "cell_type": "code",
   "execution_count": 6,
   "metadata": {},
   "outputs": [
    {
     "name": "stdout",
     "output_type": "stream",
     "text": [
      "Downloading data from https://www.cs.toronto.edu/~kriz/cifar-10-python.tar.gz\n",
      "170500096/170498071 [==============================] - 6s 0us/step\n"
     ]
    }
   ],
   "source": [
    "(x_train, y_train), (x_test, y_test) = cifar10.load_data()"
   ]
  },
  {
   "cell_type": "code",
   "execution_count": 9,
   "metadata": {},
   "outputs": [],
   "source": [
    "# Normalize data set to 0-to-1 range\n",
    "x_train = x_train.astype('float32')\n",
    "x_test = x_test.astype('float32')\n",
    "x_train = x_train/255\n",
    "x_test = x_test/255"
   ]
  },
  {
   "cell_type": "code",
   "execution_count": 10,
   "metadata": {},
   "outputs": [],
   "source": [
    "# Convert class vectors to binary class matrices\n",
    "y_train = keras.utils.to_categorical(y_train, 10)\n",
    "y_test = keras.utils.to_categorical(y_test, 10)"
   ]
  },
  {
   "cell_type": "code",
   "execution_count": 13,
   "metadata": {},
   "outputs": [],
   "source": [
    "# Create a model and add layers\n",
    "model = Sequential()\n",
    "\n",
    "model.add(Conv2D(32, (3, 3), padding='same', input_shape=(32, 32, 3), activation=\"relu\"))\n",
    "model.add(Conv2D(32, (3, 3), activation=\"relu\"))\n",
    "model.add(MaxPooling2D(pool_size=(2, 2)))\n",
    "model.add(Dropout(0.25))\n",
    "\n",
    "model.add(Conv2D(64, (3, 3), padding='same', activation=\"relu\"))\n",
    "model.add(Conv2D(64, (3, 3), activation=\"relu\"))\n",
    "model.add(MaxPooling2D(pool_size=(2, 2)))\n",
    "model.add(Dropout(0.25))\n",
    "\n",
    "model.add(Flatten())\n",
    "model.add(Dense(512, activation=\"relu\"))\n",
    "model.add(Dropout(0.5))\n",
    "model.add(Dense(10, activation=\"softmax\"))"
   ]
  },
  {
   "cell_type": "code",
   "execution_count": 14,
   "metadata": {},
   "outputs": [],
   "source": [
    "# Compile the model\n",
    "model.compile(\n",
    "    loss='categorical_crossentropy',\n",
    "    optimizer='adam',\n",
    "    metrics=['accuracy']\n",
    ")"
   ]
  },
  {
   "cell_type": "code",
   "execution_count": 15,
   "metadata": {},
   "outputs": [
    {
     "name": "stdout",
     "output_type": "stream",
     "text": [
      "Model: \"sequential\"\n",
      "_________________________________________________________________\n",
      "Layer (type)                 Output Shape              Param #   \n",
      "=================================================================\n",
      "conv2d (Conv2D)              (None, 32, 32, 32)        896       \n",
      "_________________________________________________________________\n",
      "conv2d_1 (Conv2D)            (None, 30, 30, 32)        9248      \n",
      "_________________________________________________________________\n",
      "max_pooling2d (MaxPooling2D) (None, 15, 15, 32)        0         \n",
      "_________________________________________________________________\n",
      "dropout (Dropout)            (None, 15, 15, 32)        0         \n",
      "_________________________________________________________________\n",
      "conv2d_2 (Conv2D)            (None, 15, 15, 64)        18496     \n",
      "_________________________________________________________________\n",
      "conv2d_3 (Conv2D)            (None, 13, 13, 64)        36928     \n",
      "_________________________________________________________________\n",
      "max_pooling2d_1 (MaxPooling2 (None, 6, 6, 64)          0         \n",
      "_________________________________________________________________\n",
      "dropout_1 (Dropout)          (None, 6, 6, 64)          0         \n",
      "_________________________________________________________________\n",
      "flatten (Flatten)            (None, 2304)              0         \n",
      "_________________________________________________________________\n",
      "dense (Dense)                (None, 512)               1180160   \n",
      "_________________________________________________________________\n",
      "dropout_2 (Dropout)          (None, 512)               0         \n",
      "_________________________________________________________________\n",
      "dense_1 (Dense)              (None, 10)                5130      \n",
      "=================================================================\n",
      "Total params: 1,250,858\n",
      "Trainable params: 1,250,858\n",
      "Non-trainable params: 0\n",
      "_________________________________________________________________\n"
     ]
    }
   ],
   "source": [
    "# Print a summary of the model\n",
    "model.summary()"
   ]
  },
  {
   "cell_type": "code",
   "execution_count": 16,
   "metadata": {},
   "outputs": [
    {
     "name": "stdout",
     "output_type": "stream",
     "text": [
      "Epoch 1/30\n",
      "782/782 [==============================] - 106s 133ms/step - loss: 1.7889 - accuracy: 0.3353 - val_loss: 1.1956 - val_accuracy: 0.5702\n",
      "Epoch 2/30\n",
      "782/782 [==============================] - 104s 133ms/step - loss: 1.2076 - accuracy: 0.5710 - val_loss: 0.9845 - val_accuracy: 0.6522\n",
      "Epoch 3/30\n",
      "782/782 [==============================] - 101s 130ms/step - loss: 1.0285 - accuracy: 0.6355 - val_loss: 0.8792 - val_accuracy: 0.6933\n",
      "Epoch 4/30\n",
      "782/782 [==============================] - 101s 129ms/step - loss: 0.9041 - accuracy: 0.6829 - val_loss: 0.8223 - val_accuracy: 0.7128\n",
      "Epoch 5/30\n",
      "782/782 [==============================] - 102s 130ms/step - loss: 0.8367 - accuracy: 0.7041 - val_loss: 0.7734 - val_accuracy: 0.7326\n",
      "Epoch 6/30\n",
      "782/782 [==============================] - 104s 133ms/step - loss: 0.7755 - accuracy: 0.7286 - val_loss: 0.7467 - val_accuracy: 0.7406\n",
      "Epoch 7/30\n",
      "782/782 [==============================] - 108s 138ms/step - loss: 0.7314 - accuracy: 0.7429 - val_loss: 0.7150 - val_accuracy: 0.7530\n",
      "Epoch 8/30\n",
      "782/782 [==============================] - 111s 142ms/step - loss: 0.6959 - accuracy: 0.7553 - val_loss: 0.7031 - val_accuracy: 0.7595\n",
      "Epoch 9/30\n",
      "782/782 [==============================] - 1063s 1s/step - loss: 0.6628 - accuracy: 0.7635 - val_loss: 0.6984 - val_accuracy: 0.7591\n",
      "Epoch 10/30\n",
      "782/782 [==============================] - 108s 138ms/step - loss: 0.6361 - accuracy: 0.7722 - val_loss: 0.6983 - val_accuracy: 0.7627\n",
      "Epoch 11/30\n",
      "782/782 [==============================] - 111s 142ms/step - loss: 0.6123 - accuracy: 0.7830 - val_loss: 0.6793 - val_accuracy: 0.7658\n",
      "Epoch 12/30\n",
      "782/782 [==============================] - 111s 142ms/step - loss: 0.5917 - accuracy: 0.7904 - val_loss: 0.6710 - val_accuracy: 0.7720\n",
      "Epoch 13/30\n",
      "782/782 [==============================] - 112s 143ms/step - loss: 0.5735 - accuracy: 0.7970 - val_loss: 0.6790 - val_accuracy: 0.7676\n",
      "Epoch 14/30\n",
      "782/782 [==============================] - 111s 142ms/step - loss: 0.5613 - accuracy: 0.8038 - val_loss: 0.6615 - val_accuracy: 0.7765\n",
      "Epoch 15/30\n",
      "782/782 [==============================] - 109s 139ms/step - loss: 0.5366 - accuracy: 0.8085 - val_loss: 0.6270 - val_accuracy: 0.7907\n",
      "Epoch 16/30\n",
      "782/782 [==============================] - 110s 140ms/step - loss: 0.5171 - accuracy: 0.8176 - val_loss: 0.6532 - val_accuracy: 0.7757\n",
      "Epoch 17/30\n",
      "782/782 [==============================] - 109s 140ms/step - loss: 0.5027 - accuracy: 0.8207 - val_loss: 0.6415 - val_accuracy: 0.7866\n",
      "Epoch 18/30\n",
      "782/782 [==============================] - 109s 140ms/step - loss: 0.4791 - accuracy: 0.8287 - val_loss: 0.6401 - val_accuracy: 0.7802\n",
      "Epoch 19/30\n",
      "782/782 [==============================] - 108s 139ms/step - loss: 0.4815 - accuracy: 0.8296 - val_loss: 0.6320 - val_accuracy: 0.7881\n",
      "Epoch 20/30\n",
      "782/782 [==============================] - 110s 141ms/step - loss: 0.4760 - accuracy: 0.8320 - val_loss: 0.6282 - val_accuracy: 0.7889\n",
      "Epoch 21/30\n",
      "782/782 [==============================] - 111s 141ms/step - loss: 0.4579 - accuracy: 0.8360 - val_loss: 0.6399 - val_accuracy: 0.7873\n",
      "Epoch 22/30\n",
      "782/782 [==============================] - 110s 141ms/step - loss: 0.4507 - accuracy: 0.8394 - val_loss: 0.6293 - val_accuracy: 0.7904\n",
      "Epoch 23/30\n",
      "782/782 [==============================] - 111s 142ms/step - loss: 0.4427 - accuracy: 0.8436 - val_loss: 0.6244 - val_accuracy: 0.7917\n",
      "Epoch 24/30\n",
      "782/782 [==============================] - 110s 141ms/step - loss: 0.4359 - accuracy: 0.8436 - val_loss: 0.6404 - val_accuracy: 0.7925\n",
      "Epoch 25/30\n",
      "782/782 [==============================] - 110s 141ms/step - loss: 0.4176 - accuracy: 0.8506 - val_loss: 0.6665 - val_accuracy: 0.7822\n",
      "Epoch 26/30\n",
      "782/782 [==============================] - 111s 142ms/step - loss: 0.4052 - accuracy: 0.8548 - val_loss: 0.6717 - val_accuracy: 0.7851\n",
      "Epoch 27/30\n",
      "782/782 [==============================] - 110s 140ms/step - loss: 0.4086 - accuracy: 0.8546 - val_loss: 0.6452 - val_accuracy: 0.7920\n",
      "Epoch 28/30\n",
      "782/782 [==============================] - 112s 143ms/step - loss: 0.3966 - accuracy: 0.8599 - val_loss: 0.6441 - val_accuracy: 0.7947\n",
      "Epoch 29/30\n",
      "782/782 [==============================] - 110s 141ms/step - loss: 0.3991 - accuracy: 0.8564 - val_loss: 0.6429 - val_accuracy: 0.7923\n",
      "Epoch 30/30\n",
      "782/782 [==============================] - 109s 139ms/step - loss: 0.3833 - accuracy: 0.8621 - val_loss: 0.6486 - val_accuracy: 0.7920\n"
     ]
    },
    {
     "ename": "AttributeError",
     "evalue": "'Sequential' object has no attribute 'sample_weights'",
     "output_type": "error",
     "traceback": [
      "\u001b[1;31m---------------------------------------------------------------------------\u001b[0m",
      "\u001b[1;31mAttributeError\u001b[0m                            Traceback (most recent call last)",
      "\u001b[1;32m<ipython-input-16-95afe15b206e>\u001b[0m in \u001b[0;36m<module>\u001b[1;34m\u001b[0m\n\u001b[0;32m     15\u001b[0m \u001b[1;33m\u001b[0m\u001b[0m\n\u001b[0;32m     16\u001b[0m \u001b[1;31m# Save neural network's trained weights\u001b[0m\u001b[1;33m\u001b[0m\u001b[1;33m\u001b[0m\u001b[1;33m\u001b[0m\u001b[0m\n\u001b[1;32m---> 17\u001b[1;33m \u001b[0mmodel\u001b[0m\u001b[1;33m.\u001b[0m\u001b[0msample_weights\u001b[0m\u001b[1;33m(\u001b[0m\u001b[1;34m'model_weights.h5'\u001b[0m\u001b[1;33m)\u001b[0m\u001b[1;33m\u001b[0m\u001b[1;33m\u001b[0m\u001b[0m\n\u001b[0m",
      "\u001b[1;31mAttributeError\u001b[0m: 'Sequential' object has no attribute 'sample_weights'"
     ]
    }
   ],
   "source": [
    "# Train the model\n",
    "model.fit(\n",
    "    x_train,\n",
    "    y_train,\n",
    "    batch_size=64,\n",
    "    epochs=30,\n",
    "    validation_data=(x_test, y_test),\n",
    "    shuffle=True\n",
    ")\n",
    "\n",
    "# Save neural network structure\n",
    "model_structure = model.to_json()\n",
    "f = Path('model_structure.json')\n",
    "f.write_text(model_structure)\n",
    "\n",
    "# Save neural network's trained weights\n",
    "model.sample_weights('model_weights.h5')"
   ]
  },
  {
   "cell_type": "code",
   "execution_count": 39,
   "metadata": {},
   "outputs": [],
   "source": [
    "from keras.models import model_from_json\n",
    "from pathlib import Path\n",
    "from keras.preprocessing import image\n",
    "import numpy as np"
   ]
  },
  {
   "cell_type": "code",
   "execution_count": 34,
   "metadata": {},
   "outputs": [],
   "source": [
    "# These are the CIFAR10 class labels from the training data (in order from 0 to 9)\n",
    "class_labels = [\n",
    "    \"Plane\",\n",
    "    \"Car\",\n",
    "    \"Bird\",\n",
    "    \"Cat\",\n",
    "    \"Deer\",\n",
    "    \"Dog\",\n",
    "    \"Frog\",\n",
    "    \"Horse\",\n",
    "    \"Boat\",\n",
    "    \"Truck\"\n",
    "]"
   ]
  },
  {
   "cell_type": "code",
   "execution_count": 19,
   "metadata": {},
   "outputs": [],
   "source": [
    "# Load the json file that contains the model's structure\n",
    "f = Path(\"model_structure.json\")\n",
    "model_structure = f.read_text()"
   ]
  },
  {
   "cell_type": "code",
   "execution_count": 26,
   "metadata": {},
   "outputs": [],
   "source": [
    "# Recreate the Keras model object from the json data\n",
    "model = model_from_json(model_structure)"
   ]
  },
  {
   "cell_type": "code",
   "execution_count": 27,
   "metadata": {},
   "outputs": [],
   "source": [
    "# Re-load the model's trained weights\n",
    "model.load_weights(\"model_weights.h5\")"
   ]
  },
  {
   "cell_type": "code",
   "execution_count": 36,
   "metadata": {},
   "outputs": [],
   "source": [
    "# Load an image file to test, resizing it to 32x32 pixels (as required by this model)\n",
    "img = image.load_img(\"frog.png\", target_size=(32, 32))"
   ]
  },
  {
   "cell_type": "code",
   "execution_count": 37,
   "metadata": {},
   "outputs": [],
   "source": [
    "# Convert the image to a numpy array\n",
    "image_to_test = image.img_to_array(img)"
   ]
  },
  {
   "cell_type": "code",
   "execution_count": 40,
   "metadata": {},
   "outputs": [],
   "source": [
    "# Add a fourth dimension to the image (since Keras expects a list of images, not a single image)\n",
    "list_of_images = np.expand_dims(image_to_test, axis=0)"
   ]
  },
  {
   "cell_type": "code",
   "execution_count": 41,
   "metadata": {},
   "outputs": [],
   "source": [
    "# Make a prediction using the model\n",
    "results = model.predict(list_of_images)"
   ]
  },
  {
   "cell_type": "code",
   "execution_count": 42,
   "metadata": {},
   "outputs": [],
   "source": [
    "# Since we are only testing one image, we only need to check the first result\n",
    "single_result = results[0]"
   ]
  },
  {
   "cell_type": "code",
   "execution_count": 43,
   "metadata": {},
   "outputs": [],
   "source": [
    "# We will get a likelihood score for all 10 possible classes. Find out which class had the highest score.\n",
    "most_likely_class_index = int(np.argmax(single_result))\n",
    "class_likelihood = single_result[most_likely_class_index]"
   ]
  },
  {
   "cell_type": "code",
   "execution_count": 44,
   "metadata": {},
   "outputs": [],
   "source": [
    "# Get the name of the most likely class\n",
    "class_label = class_labels[most_likely_class_index]"
   ]
  },
  {
   "cell_type": "code",
   "execution_count": 45,
   "metadata": {},
   "outputs": [
    {
     "data": {
      "text/plain": [
       "'Frog'"
      ]
     },
     "execution_count": 45,
     "metadata": {},
     "output_type": "execute_result"
    }
   ],
   "source": [
    "class_label"
   ]
  },
  {
   "cell_type": "code",
   "execution_count": 50,
   "metadata": {},
   "outputs": [
    {
     "data": {
      "text/plain": [
       "'Frog'"
      ]
     },
     "execution_count": 50,
     "metadata": {},
     "output_type": "execute_result"
    }
   ],
   "source": [
    "# Load an image file to test, resizing it to 32x32 pixels (as required by this model)\n",
    "img = image.load_img(\"bird.png\", target_size=(32, 32))\n",
    "\n",
    "# Convert the image to a numpy array\n",
    "image_to_test = image.img_to_array(img)\n",
    "\n",
    "# Add a fourth dimension to the image (since Keras expects a list of images, not a single image)\n",
    "list_of_images = np.expand_dims(image_to_test, axis=0)\n",
    "\n",
    "# Make a prediction using the model\n",
    "results = model.predict(list_of_images)\n",
    "\n",
    "# Since we are only testing one image, we only need to check the first result\n",
    "single_result = results[0]\n",
    "\n",
    "# We will get a likelihood score for all 10 possible classes. Find out which class had the highest score.\n",
    "most_likely_class_index = int(np.argmax(single_result))\n",
    "class_likelihood = single_result[most_likely_class_index]\n",
    "\n",
    "# Get the name of the most likely class\n",
    "class_label = class_labels[most_likely_class_index]\n",
    "\n",
    "class_label"
   ]
  },
  {
   "cell_type": "code",
   "execution_count": null,
   "metadata": {},
   "outputs": [],
   "source": []
  }
 ],
 "metadata": {
  "kernelspec": {
   "display_name": "Python 3",
   "language": "python",
   "name": "python3"
  },
  "language_info": {
   "codemirror_mode": {
    "name": "ipython",
    "version": 3
   },
   "file_extension": ".py",
   "mimetype": "text/x-python",
   "name": "python",
   "nbconvert_exporter": "python",
   "pygments_lexer": "ipython3",
   "version": "3.8.5"
  }
 },
 "nbformat": 4,
 "nbformat_minor": 4
}
