{
 "cells": [
  {
   "cell_type": "markdown",
   "metadata": {},
   "source": [
    "Extracting data from website using BeautifulSoup library and creating a DataFrame"
   ]
  },
  {
   "cell_type": "code",
   "execution_count": 1,
   "metadata": {},
   "outputs": [],
   "source": [
    "import requests\n",
    "from bs4 import BeautifulSoup"
   ]
  },
  {
   "cell_type": "code",
   "execution_count": 3,
   "metadata": {},
   "outputs": [],
   "source": [
    "page = requests.get('https://www.worldometers.info/gdp/gdp-per-capita/')"
   ]
  },
  {
   "cell_type": "code",
   "execution_count": 4,
   "metadata": {},
   "outputs": [],
   "source": [
    "soup = BeautifulSoup(page.text,'html.parser')"
   ]
  },
  {
   "cell_type": "code",
   "execution_count": 5,
   "metadata": {},
   "outputs": [],
   "source": [
    "head = soup.find('div',{'class':'content-inner'}).find('table',{'id':'example2'}).find('thead').find_all('th')"
   ]
  },
  {
   "cell_type": "code",
   "execution_count": 5,
   "metadata": {},
   "outputs": [],
   "source": [
    "header = []\n",
    "for i in range(0,len(head)):\n",
    "    Header=head[i].contents[0]\n",
    "    header.append(Header)"
   ]
  },
  {
   "cell_type": "code",
   "execution_count": 6,
   "metadata": {},
   "outputs": [],
   "source": [
    "Country_names = soup.find('div',{'class':'content-inner'}).find('table',{'id':'example2'}).find('tbody').find_all('a')"
   ]
  },
  {
   "cell_type": "code",
   "execution_count": 7,
   "metadata": {},
   "outputs": [],
   "source": [
    "country = []\n",
    "for i in range(0,len(Country_names)):\n",
    "    Country=Country_names[i].contents[0]\n",
    "    country.append(Country)"
   ]
  },
  {
   "cell_type": "code",
   "execution_count": 8,
   "metadata": {},
   "outputs": [],
   "source": [
    "gdp_ppp=[]\n",
    "gdp_nominal=[]\n",
    "vs_world_ppp=[]\n",
    "for i in range(0,len(country)):\n",
    "    x = soup.find('div',{'class':'content-inner'}).find('table',{'id':'example2'}).find('tbody').find_all('tr')[i]\n",
    "    GDP_PPP=x.contents[5].contents[0]\n",
    "    gdp_ppp.append(GDP_PPP)\n",
    "    GDP_nominal=x.contents[7].contents[0]\n",
    "    gdp_nominal.append(GDP_nominal)\n",
    "    VS_World_PPP=x.contents[9].contents[0]\n",
    "    vs_world_ppp.append(VS_World_PPP)"
   ]
  },
  {
   "cell_type": "code",
   "execution_count": 9,
   "metadata": {},
   "outputs": [],
   "source": [
    "import pandas as pd"
   ]
  },
  {
   "cell_type": "code",
   "execution_count": 10,
   "metadata": {},
   "outputs": [],
   "source": [
    "Table = pd.DataFrame({header[1]:country,header[2]:gdp_ppp,header[3]:gdp_nominal,header[4]:vs_world_ppp})"
   ]
  },
  {
   "cell_type": "code",
   "execution_count": 11,
   "metadata": {},
   "outputs": [
    {
     "data": {
      "text/html": [
       "<div>\n",
       "<style scoped>\n",
       "    .dataframe tbody tr th:only-of-type {\n",
       "        vertical-align: middle;\n",
       "    }\n",
       "\n",
       "    .dataframe tbody tr th {\n",
       "        vertical-align: top;\n",
       "    }\n",
       "\n",
       "    .dataframe thead th {\n",
       "        text-align: right;\n",
       "    }\n",
       "</style>\n",
       "<table border=\"1\" class=\"dataframe\">\n",
       "  <thead>\n",
       "    <tr style=\"text-align: right;\">\n",
       "      <th></th>\n",
       "      <th>Country</th>\n",
       "      <th>GDP (PPP)</th>\n",
       "      <th>GDP (nominal)</th>\n",
       "      <th>vs. World PPP</th>\n",
       "    </tr>\n",
       "  </thead>\n",
       "  <tbody>\n",
       "    <tr>\n",
       "      <th>0</th>\n",
       "      <td>Qatar</td>\n",
       "      <td>$128,647</td>\n",
       "      <td>$61,264</td>\n",
       "      <td>752%</td>\n",
       "    </tr>\n",
       "    <tr>\n",
       "      <th>1</th>\n",
       "      <td>Macao</td>\n",
       "      <td>$115,367</td>\n",
       "      <td>$80,890</td>\n",
       "      <td>675%</td>\n",
       "    </tr>\n",
       "    <tr>\n",
       "      <th>2</th>\n",
       "      <td>Luxembourg</td>\n",
       "      <td>$107,641</td>\n",
       "      <td>$105,280</td>\n",
       "      <td>629%</td>\n",
       "    </tr>\n",
       "    <tr>\n",
       "      <th>3</th>\n",
       "      <td>Singapore</td>\n",
       "      <td>$94,105</td>\n",
       "      <td>$56,746</td>\n",
       "      <td>550%</td>\n",
       "    </tr>\n",
       "    <tr>\n",
       "      <th>4</th>\n",
       "      <td>Brunei</td>\n",
       "      <td>$79,003</td>\n",
       "      <td>$28,572</td>\n",
       "      <td>462%</td>\n",
       "    </tr>\n",
       "    <tr>\n",
       "      <th>...</th>\n",
       "      <td>...</td>\n",
       "      <td>...</td>\n",
       "      <td>...</td>\n",
       "      <td>...</td>\n",
       "    </tr>\n",
       "    <tr>\n",
       "      <th>185</th>\n",
       "      <td>Northern Mariana Islands</td>\n",
       "      <td>N.A.</td>\n",
       "      <td>$28,164</td>\n",
       "      <td>N.A.</td>\n",
       "    </tr>\n",
       "    <tr>\n",
       "      <th>186</th>\n",
       "      <td>Andorra</td>\n",
       "      <td>N.A.</td>\n",
       "      <td>$39,128</td>\n",
       "      <td>N.A.</td>\n",
       "    </tr>\n",
       "    <tr>\n",
       "      <th>187</th>\n",
       "      <td>Guam</td>\n",
       "      <td>N.A.</td>\n",
       "      <td>$35,665</td>\n",
       "      <td>N.A.</td>\n",
       "    </tr>\n",
       "    <tr>\n",
       "      <th>188</th>\n",
       "      <td>American Samoa</td>\n",
       "      <td>N.A.</td>\n",
       "      <td>$11,399</td>\n",
       "      <td>N.A.</td>\n",
       "    </tr>\n",
       "    <tr>\n",
       "      <th>189</th>\n",
       "      <td>Cuba</td>\n",
       "      <td>N.A.</td>\n",
       "      <td>$8,541</td>\n",
       "      <td>N.A.</td>\n",
       "    </tr>\n",
       "  </tbody>\n",
       "</table>\n",
       "<p>190 rows × 4 columns</p>\n",
       "</div>"
      ],
      "text/plain": [
       "                      Country  GDP (PPP)  GDP (nominal) vs. World PPP \n",
       "0                       Qatar   $128,647        $61,264          752% \n",
       "1                       Macao   $115,367        $80,890          675% \n",
       "2                  Luxembourg   $107,641       $105,280          629% \n",
       "3                   Singapore    $94,105        $56,746          550% \n",
       "4                     Brunei     $79,003        $28,572          462% \n",
       "..                        ...         ...           ...            ...\n",
       "185  Northern Mariana Islands       N.A.        $28,164          N.A. \n",
       "186                   Andorra       N.A.        $39,128          N.A. \n",
       "187                      Guam       N.A.        $35,665          N.A. \n",
       "188            American Samoa       N.A.        $11,399          N.A. \n",
       "189                      Cuba       N.A.         $8,541          N.A. \n",
       "\n",
       "[190 rows x 4 columns]"
      ]
     },
     "execution_count": 11,
     "metadata": {},
     "output_type": "execute_result"
    }
   ],
   "source": [
    "Table"
   ]
  },
  {
   "cell_type": "code",
   "execution_count": null,
   "metadata": {},
   "outputs": [],
   "source": []
  }
 ],
 "metadata": {
  "kernelspec": {
   "display_name": "Python 3",
   "language": "python",
   "name": "python3"
  },
  "language_info": {
   "codemirror_mode": {
    "name": "ipython",
    "version": 3
   },
   "file_extension": ".py",
   "mimetype": "text/x-python",
   "name": "python",
   "nbconvert_exporter": "python",
   "pygments_lexer": "ipython3",
   "version": "3.8.5"
  }
 },
 "nbformat": 4,
 "nbformat_minor": 4
}
